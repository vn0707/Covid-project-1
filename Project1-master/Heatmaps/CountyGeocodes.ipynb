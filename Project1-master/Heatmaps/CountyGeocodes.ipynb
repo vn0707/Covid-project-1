{
 "cells": [
  {
   "cell_type": "code",
   "execution_count": 1,
   "metadata": {},
   "outputs": [],
   "source": [
    "# Import Dependencies\n",
    "import pandas as pd\n",
    "import requests\n",
    "import gmaps\n",
    "from config import gkey\n",
    "\n",
    "\n",
    "gmaps.configure(api_key=gkey)"
   ]
  },
  {
   "cell_type": "code",
   "execution_count": 2,
   "metadata": {},
   "outputs": [],
   "source": [
    "file_path = \"County_food_insecurity_2017.csv\"\n",
    "food_data_df = pd.read_csv(file_path)"
   ]
  },
  {
   "cell_type": "code",
   "execution_count": 3,
   "metadata": {},
   "outputs": [
    {
     "data": {
      "text/html": [
       "<div>\n",
       "<style scoped>\n",
       "    .dataframe tbody tr th:only-of-type {\n",
       "        vertical-align: middle;\n",
       "    }\n",
       "\n",
       "    .dataframe tbody tr th {\n",
       "        vertical-align: top;\n",
       "    }\n",
       "\n",
       "    .dataframe thead th {\n",
       "        text-align: right;\n",
       "    }\n",
       "</style>\n",
       "<table border=\"1\" class=\"dataframe\">\n",
       "  <thead>\n",
       "    <tr style=\"text-align: right;\">\n",
       "      <th></th>\n",
       "      <th>State</th>\n",
       "      <th>County, State</th>\n",
       "      <th>2017 Food Insecurity Rate</th>\n",
       "      <th>lat</th>\n",
       "      <th>lng</th>\n",
       "    </tr>\n",
       "  </thead>\n",
       "  <tbody>\n",
       "    <tr>\n",
       "      <th>0</th>\n",
       "      <td>AL</td>\n",
       "      <td>Autauga County, Alabama</td>\n",
       "      <td>0.132</td>\n",
       "      <td></td>\n",
       "      <td></td>\n",
       "    </tr>\n",
       "    <tr>\n",
       "      <th>1</th>\n",
       "      <td>AL</td>\n",
       "      <td>Baldwin County, Alabama</td>\n",
       "      <td>0.116</td>\n",
       "      <td></td>\n",
       "      <td></td>\n",
       "    </tr>\n",
       "    <tr>\n",
       "      <th>2</th>\n",
       "      <td>AL</td>\n",
       "      <td>Barbour County, Alabama</td>\n",
       "      <td>0.220</td>\n",
       "      <td></td>\n",
       "      <td></td>\n",
       "    </tr>\n",
       "    <tr>\n",
       "      <th>3</th>\n",
       "      <td>AL</td>\n",
       "      <td>Bibb County, Alabama</td>\n",
       "      <td>0.143</td>\n",
       "      <td></td>\n",
       "      <td></td>\n",
       "    </tr>\n",
       "    <tr>\n",
       "      <th>4</th>\n",
       "      <td>AL</td>\n",
       "      <td>Blount County, Alabama</td>\n",
       "      <td>0.107</td>\n",
       "      <td></td>\n",
       "      <td></td>\n",
       "    </tr>\n",
       "  </tbody>\n",
       "</table>\n",
       "</div>"
      ],
      "text/plain": [
       "  State            County, State  2017 Food Insecurity Rate lat lng\n",
       "0    AL  Autauga County, Alabama                      0.132        \n",
       "1    AL  Baldwin County, Alabama                      0.116        \n",
       "2    AL  Barbour County, Alabama                      0.220        \n",
       "3    AL     Bibb County, Alabama                      0.143        \n",
       "4    AL   Blount County, Alabama                      0.107        "
      ]
     },
     "execution_count": 3,
     "metadata": {},
     "output_type": "execute_result"
    }
   ],
   "source": [
    "refined_food_data_df = food_data_df.loc[:,[\"State\", \"County, State\",\"2017 Food Insecurity Rate\"]]\n",
    "refined_food_data_df[\"lat\"] = \"\"\n",
    "refined_food_data_df[\"lng\"] = \"\"\n",
    "refined_food_data_df.head()"
   ]
  },
  {
   "cell_type": "code",
   "execution_count": 4,
   "metadata": {},
   "outputs": [
    {
     "data": {
      "text/plain": [
       "0          Autauga County, Alabama\n",
       "1          Baldwin County, Alabama\n",
       "2          Barbour County, Alabama\n",
       "3             Bibb County, Alabama\n",
       "4           Blount County, Alabama\n",
       "                   ...            \n",
       "3137    Sweetwater County, Wyoming\n",
       "3138         Teton County, Wyoming\n",
       "3139         Uinta County, Wyoming\n",
       "3140      Washakie County, Wyoming\n",
       "3141        Weston County, Wyoming\n",
       "Name: County, State, Length: 3142, dtype: object"
      ]
     },
     "execution_count": 4,
     "metadata": {},
     "output_type": "execute_result"
    }
   ],
   "source": [
    "refined_food_data_df[\"County, State\"]"
   ]
  },
  {
   "cell_type": "code",
   "execution_count": 6,
   "metadata": {},
   "outputs": [],
   "source": [
    "for index, row in refined_food_data_df.iterrows():\n",
    "    target_area = row[\"County, State\"]\n",
    "    target_url = ('https://maps.googleapis.com/maps/api/geocode/json?address={0}&key={1}').format(target_area, gkey)\n",
    "    response = requests.get(target_url).json()\n",
    "    refined_food_data_df.loc[index, 'lat'] = response['results'][0][\"geometry\"][\"location\"][\"lat\"]\n",
    "    refined_food_data_df.loc[index, 'lng'] = response['results'][0][\"geometry\"][\"location\"][\"lng\"]"
   ]
  },
  {
   "cell_type": "code",
   "execution_count": 7,
   "metadata": {},
   "outputs": [
    {
     "data": {
      "text/html": [
       "<div>\n",
       "<style scoped>\n",
       "    .dataframe tbody tr th:only-of-type {\n",
       "        vertical-align: middle;\n",
       "    }\n",
       "\n",
       "    .dataframe tbody tr th {\n",
       "        vertical-align: top;\n",
       "    }\n",
       "\n",
       "    .dataframe thead th {\n",
       "        text-align: right;\n",
       "    }\n",
       "</style>\n",
       "<table border=\"1\" class=\"dataframe\">\n",
       "  <thead>\n",
       "    <tr style=\"text-align: right;\">\n",
       "      <th></th>\n",
       "      <th>State</th>\n",
       "      <th>County, State</th>\n",
       "      <th>2017 Food Insecurity Rate</th>\n",
       "      <th>lat</th>\n",
       "      <th>lng</th>\n",
       "    </tr>\n",
       "  </thead>\n",
       "  <tbody>\n",
       "    <tr>\n",
       "      <th>0</th>\n",
       "      <td>AL</td>\n",
       "      <td>Autauga County, Alabama</td>\n",
       "      <td>0.132</td>\n",
       "      <td>32.5792</td>\n",
       "      <td>-86.4997</td>\n",
       "    </tr>\n",
       "    <tr>\n",
       "      <th>1</th>\n",
       "      <td>AL</td>\n",
       "      <td>Baldwin County, Alabama</td>\n",
       "      <td>0.116</td>\n",
       "      <td>30.6011</td>\n",
       "      <td>-87.7763</td>\n",
       "    </tr>\n",
       "    <tr>\n",
       "      <th>2</th>\n",
       "      <td>AL</td>\n",
       "      <td>Barbour County, Alabama</td>\n",
       "      <td>0.220</td>\n",
       "      <td>31.8173</td>\n",
       "      <td>-85.355</td>\n",
       "    </tr>\n",
       "    <tr>\n",
       "      <th>3</th>\n",
       "      <td>AL</td>\n",
       "      <td>Bibb County, Alabama</td>\n",
       "      <td>0.143</td>\n",
       "      <td>32.9563</td>\n",
       "      <td>-87.1423</td>\n",
       "    </tr>\n",
       "    <tr>\n",
       "      <th>4</th>\n",
       "      <td>AL</td>\n",
       "      <td>Blount County, Alabama</td>\n",
       "      <td>0.107</td>\n",
       "      <td>34.0145</td>\n",
       "      <td>-86.4997</td>\n",
       "    </tr>\n",
       "  </tbody>\n",
       "</table>\n",
       "</div>"
      ],
      "text/plain": [
       "  State            County, State  2017 Food Insecurity Rate      lat      lng\n",
       "0    AL  Autauga County, Alabama                      0.132  32.5792 -86.4997\n",
       "1    AL  Baldwin County, Alabama                      0.116  30.6011 -87.7763\n",
       "2    AL  Barbour County, Alabama                      0.220  31.8173  -85.355\n",
       "3    AL     Bibb County, Alabama                      0.143  32.9563 -87.1423\n",
       "4    AL   Blount County, Alabama                      0.107  34.0145 -86.4997"
      ]
     },
     "execution_count": 7,
     "metadata": {},
     "output_type": "execute_result"
    }
   ],
   "source": [
    "refined_food_data_df.head()"
   ]
  },
  {
   "cell_type": "code",
   "execution_count": 11,
   "metadata": {},
   "outputs": [],
   "source": [
    "refined_food_data_df.to_csv(\"location.csv\",index=False, header=True)"
   ]
  },
  {
   "cell_type": "code",
   "execution_count": null,
   "metadata": {},
   "outputs": [],
   "source": []
  },
  {
   "cell_type": "code",
   "execution_count": null,
   "metadata": {},
   "outputs": [],
   "source": []
  },
  {
   "cell_type": "code",
   "execution_count": null,
   "metadata": {},
   "outputs": [],
   "source": []
  },
  {
   "cell_type": "code",
   "execution_count": null,
   "metadata": {},
   "outputs": [],
   "source": []
  }
 ],
 "metadata": {
  "kernelspec": {
   "display_name": "pythondata",
   "language": "python",
   "name": "pythondata"
  },
  "language_info": {
   "codemirror_mode": {
    "name": "ipython",
    "version": 3
   },
   "file_extension": ".py",
   "mimetype": "text/x-python",
   "name": "python",
   "nbconvert_exporter": "python",
   "pygments_lexer": "ipython3",
   "version": "3.7.7"
  }
 },
 "nbformat": 4,
 "nbformat_minor": 4
}
